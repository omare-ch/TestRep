{
  "metadata": {
    "kernelspec": {
      "name": "python",
      "display_name": "Python (Pyodide)",
      "language": "python"
    },
    "language_info": {
      "codemirror_mode": {
        "name": "python",
        "version": 3
      },
      "file_extension": ".py",
      "mimetype": "text/x-python",
      "name": "python",
      "nbconvert_exporter": "python",
      "pygments_lexer": "ipython3",
      "version": "3.8"
    }
  },
  "nbformat_minor": 5,
  "nbformat": 4,
  "cells": [
    {
      "id": "f6b023db-6408-4010-b3a0-08b72e0d25b2",
      "cell_type": "markdown",
      "source": "# Data Science Tools and Ecosystem",
      "metadata": {}
    },
    {
      "id": "de9dccfd-f4cc-427f-ad12-df2bd1e04e16",
      "cell_type": "markdown",
      "source": "En este cuaderno, se resumen las herramientas y ecosistemas de ciencia de datos.",
      "metadata": {}
    },
    {
      "id": "46cf048b-293c-44ec-bd5e-97ef91eb2675",
      "cell_type": "markdown",
      "source": "**Objetivos:**",
      "metadata": {}
    },
    {
      "id": "922f913b-309e-43a8-8979-206279b7e444",
      "cell_type": "markdown",
      "source": "Listar lenguajes populares para Ciencia de Datos\n- Python\n- R\n- Sql\n- Scala\n- Java",
      "metadata": {}
    },
    {
      "id": "492dc9f7-b8a8-4536-9fc5-eb2c20929b10",
      "cell_type": "markdown",
      "source": "Algunos de los lenguajes populares que utilizan los científicos de datos son:",
      "metadata": {
        "scrolled": true
      }
    },
    {
      "id": "e3c619a8-4ffe-4b90-b6c5-df46c9edad5d",
      "cell_type": "markdown",
      "source": "1. Python\n2. R\n3. Sql\n4. Scala\n5. Java\n6. C++\n7. Julia",
      "metadata": {}
    },
    {
      "id": "582a0174-8e6b-4329-88a8-6f51e70ec4a5",
      "cell_type": "markdown",
      "source": "Algunas de las bibliotecas comúnmente utilizadas por los científicos de datos incluyen:",
      "metadata": {}
    },
    {
      "id": "babae0bb-eb51-41ff-a873-1c304c75ab2e",
      "cell_type": "markdown",
      "source": "1. Pandas \n2. NumPy \n3. SciPy \n4. Matplotlib",
      "metadata": {}
    },
    {
      "id": "7fb0593c-6624-44e8-8697-42c6255c6128",
      "cell_type": "markdown",
      "source": "Herramientas de desarrollo de codigo abierto para la ciencia de Datos",
      "metadata": {}
    },
    {
      "id": "11e68056-a62f-4255-afdb-ac0a0f67a440",
      "cell_type": "markdown",
      "source": "| Herramientas|\n|-------------|\n| Jupyter IDE |\n| RStudio |\n| Spyder |\n| Anaconda Navigator |\n",
      "metadata": {}
    },
    {
      "id": "13eac7e7-3c94-4bdb-b80b-fb8af002ff41",
      "cell_type": "markdown",
      "source": "### A continuación, se presentan algunos ejemplos de evaluación de expresiones aritméticas en Python",
      "metadata": {}
    },
    {
      "id": "484a58c3-ccb7-4d8a-b726-cf0deeb8bab8",
      "cell_type": "markdown",
      "source": "Esta es una expresión aritmética simple para multiplicar y luego sumar enteros",
      "metadata": {}
    },
    {
      "id": "9c70e045-9357-4b37-a3d6-891440a5fb52",
      "cell_type": "code",
      "source": "(3*4)+5",
      "metadata": {
        "trusted": true
      },
      "outputs": [
        {
          "execution_count": 14,
          "output_type": "execute_result",
          "data": {
            "text/plain": "17"
          },
          "metadata": {}
        }
      ],
      "execution_count": 14
    },
    {
      "id": "7ad2b587-3532-43cb-bfa5-581a47987333",
      "cell_type": "markdown",
      "source": "Esto convertirá 200 minutos a horas dividiendo por 60",
      "metadata": {}
    },
    {
      "id": "7503f5ed-a212-4fbb-adfe-f01a1992b247",
      "cell_type": "code",
      "source": "200/60",
      "metadata": {
        "trusted": true
      },
      "outputs": [
        {
          "execution_count": 16,
          "output_type": "execute_result",
          "data": {
            "text/plain": "3.3333333333333335"
          },
          "metadata": {}
        }
      ],
      "execution_count": 16
    },
    {
      "id": "d2a6e6b3-d46d-4276-a3da-bfa0174b5476",
      "cell_type": "markdown",
      "source": "## Autor",
      "metadata": {}
    },
    {
      "id": "65213c85-801e-492e-a335-e43e48dcd671",
      "cell_type": "code",
      "source": "Omar Chamorro",
      "metadata": {
        "trusted": true
      },
      "outputs": [],
      "execution_count": null
    },
    {
      "id": "31af3967-8565-4c04-a524-590b48779a6a",
      "cell_type": "code",
      "source": "",
      "metadata": {
        "trusted": true
      },
      "outputs": [],
      "execution_count": null
    }
  ]
}